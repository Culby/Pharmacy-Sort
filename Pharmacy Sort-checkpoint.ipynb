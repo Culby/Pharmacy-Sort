{
 "cells": [
  {
   "cell_type": "code",
   "execution_count": null,
   "metadata": {
    "collapsed": true
   },
   "outputs": [],
   "source": [
    "#load data into python"
   ]
  },
  {
   "cell_type": "code",
   "execution_count": null,
   "metadata": {
    "collapsed": true
   },
   "outputs": [],
   "source": [
    "#https://stackoverflow.com/questions/14676265/how-to-read-a-text-file-into-a-list-or-an-array-with-python"
   ]
  },
  {
   "cell_type": "code",
   "execution_count": 18,
   "metadata": {},
   "outputs": [
    {
     "name": "stdout",
     "output_type": "stream",
     "text": [
      "['id,prescriber_last_name,prescriber_first_name,drug_name,drug_cost\\n', '1000000001,Smith,James,AMBIEN,100\\n', '1000000002,Garcia,Maria,AMBIEN,200\\n', '1000000003,Johnson,James,CHLORPROMAZINE,1000\\n', '1000000004,Rodriguez,Maria,CHLORPROMAZINE,2000\\n', '1000000005,Smith,David,BENZTROPINE MESYLATE,1500']\n",
      "6\n"
     ]
    }
   ],
   "source": [
    "text_file = open(\"itcont.txt\", \"r\")\n",
    "lines = text_file.readlines()\n",
    "print(lines) \n",
    "print(len(lines)) \n",
    "text_file.close()"
   ]
  },
  {
   "cell_type": "code",
   "execution_count": 19,
   "metadata": {},
   "outputs": [
    {
     "name": "stdout",
     "output_type": "stream",
     "text": [
      "id,prescriber_last_name,prescriber_first_name,drug_name,drug_cost\n",
      "\n",
      "1000000001,Smith,James,AMBIEN,100\n",
      "\n",
      "1000000002,Garcia,Maria,AMBIEN,200\n",
      "\n",
      "1000000003,Johnson,James,CHLORPROMAZINE,1000\n",
      "\n",
      "1000000004,Rodriguez,Maria,CHLORPROMAZINE,2000\n",
      "\n",
      "1000000005,Smith,David,BENZTROPINE MESYLATE,1500\n"
     ]
    }
   ],
   "source": [
    "for line in lines:\n",
    "    print(line)"
   ]
  },
  {
   "cell_type": "code",
   "execution_count": 20,
   "metadata": {},
   "outputs": [
    {
     "ename": "NameError",
     "evalue": "name 'drug_name' is not defined",
     "output_type": "error",
     "traceback": [
      "\u001b[1;31m---------------------------------------------------------------------------\u001b[0m",
      "\u001b[1;31mNameError\u001b[0m                                 Traceback (most recent call last)",
      "\u001b[1;32m<ipython-input-20-c7805bb2bff9>\u001b[0m in \u001b[0;36m<module>\u001b[1;34m()\u001b[0m\n\u001b[0;32m      1\u001b[0m \u001b[1;33m\u001b[0m\u001b[0m\n\u001b[1;32m----> 2\u001b[1;33m \u001b[1;32mfor\u001b[0m \u001b[0mnum_prescriber\u001b[0m \u001b[1;32min\u001b[0m \u001b[0mdrug_name\u001b[0m\u001b[1;33m:\u001b[0m\u001b[1;33m\u001b[0m\u001b[0m\n\u001b[0m\u001b[0;32m      3\u001b[0m     \u001b[0mnum_prescriber\u001b[0m \u001b[1;33m=\u001b[0m \u001b[1;36m0\u001b[0m\u001b[1;33m\u001b[0m\u001b[0m\n\u001b[0;32m      4\u001b[0m     \u001b[0mnum_prescriber\u001b[0m \u001b[1;33m=\u001b[0m \u001b[0mnum_prescriber\u001b[0m \u001b[1;33m+\u001b[0m \u001b[1;36m1\u001b[0m\u001b[1;33m\u001b[0m\u001b[0m\n",
      "\u001b[1;31mNameError\u001b[0m: name 'drug_name' is not defined"
     ]
    }
   ],
   "source": [
    "\n",
    "for num_prescriber in drug_name:\n",
    "    num_prescriber = 0\n",
    "    num_prescriber = num_prescriber + 1"
   ]
  },
  {
   "cell_type": "code",
   "execution_count": 17,
   "metadata": {},
   "outputs": [
    {
     "ename": "NameError",
     "evalue": "name 'drug_name' is not defined",
     "output_type": "error",
     "traceback": [
      "\u001b[1;31m---------------------------------------------------------------------------\u001b[0m",
      "\u001b[1;31mNameError\u001b[0m                                 Traceback (most recent call last)",
      "\u001b[1;32m<ipython-input-17-c7d9930c2d43>\u001b[0m in \u001b[0;36m<module>\u001b[1;34m()\u001b[0m\n\u001b[0;32m      1\u001b[0m \u001b[1;32mfor\u001b[0m \u001b[0mnum_prescriber\u001b[0m \u001b[1;32min\u001b[0m \u001b[0mlines\u001b[0m\u001b[1;33m:\u001b[0m\u001b[1;33m\u001b[0m\u001b[0m\n\u001b[1;32m----> 2\u001b[1;33m     \u001b[1;32mif\u001b[0m \u001b[0mdrug_name\u001b[0m \u001b[1;33m==\u001b[0m \u001b[0mdrug_name\u001b[0m\u001b[1;33m:\u001b[0m\u001b[1;33m\u001b[0m\u001b[0m\n\u001b[0m\u001b[0;32m      3\u001b[0m         \u001b[0mnum_prescriber\u001b[0m \u001b[1;33m=\u001b[0m \u001b[1;36m0\u001b[0m\u001b[1;33m\u001b[0m\u001b[0m\n\u001b[0;32m      4\u001b[0m         \u001b[0mnum_prescriber\u001b[0m \u001b[1;33m=\u001b[0m \u001b[0mnum_prescriber\u001b[0m \u001b[1;33m+\u001b[0m \u001b[1;36m1\u001b[0m\u001b[1;33m\u001b[0m\u001b[0m\n",
      "\u001b[1;31mNameError\u001b[0m: name 'drug_name' is not defined"
     ]
    }
   ],
   "source": [
    "for num_prescriber in lines:\n",
    "    if drug_name == drug_name:\n",
    "        num_prescriber = 0\n",
    "        num_prescriber = num_prescriber + 1"
   ]
  },
  {
   "cell_type": "code",
   "execution_count": null,
   "metadata": {
    "collapsed": true
   },
   "outputs": [],
   "source": []
  }
 ],
 "metadata": {
  "kernelspec": {
   "display_name": "Python 3",
   "language": "python",
   "name": "python3"
  },
  "language_info": {
   "codemirror_mode": {
    "name": "ipython",
    "version": 3
   },
   "file_extension": ".py",
   "mimetype": "text/x-python",
   "name": "python",
   "nbconvert_exporter": "python",
   "pygments_lexer": "ipython3",
   "version": "3.6.3"
  }
 },
 "nbformat": 4,
 "nbformat_minor": 2
}
